{
 "cells": [
  {
   "cell_type": "markdown",
   "id": "aef1d47a",
   "metadata": {},
   "source": [
    "# Single Linear Regression"
   ]
  },
  {
   "cell_type": "code",
   "execution_count": null,
   "id": "2fdc8db5",
   "metadata": {},
   "outputs": [],
   "source": [
    "from sklearn.linear_model import LinearRegression\n",
    "from sklearn.model_selection import train_test_split"
   ]
  },
  {
   "cell_type": "code",
   "execution_count": null,
   "id": "53c410b3",
   "metadata": {},
   "outputs": [],
   "source": [
    "X = df.col\n",
    "y = df.outcome_col"
   ]
  },
  {
   "cell_type": "code",
   "execution_count": null,
   "id": "55d492fc",
   "metadata": {},
   "outputs": [],
   "source": [
    "x_train, x_test, y_train, y_test = train_test_split(X, y, train_size = 0.8, test_size = 0.2)"
   ]
  },
  {
   "cell_type": "code",
   "execution_count": null,
   "id": "ff0a90e4",
   "metadata": {},
   "outputs": [],
   "source": [
    "model = LinearRegression()\n",
    "model.fit(x_train, y_train)"
   ]
  },
  {
   "cell_type": "code",
   "execution_count": null,
   "id": "8723014a",
   "metadata": {},
   "outputs": [],
   "source": [
    "y_predicted = model.predict(x)\n",
    "score = model.score(x_train, y_train)"
   ]
  },
  {
   "cell_type": "markdown",
   "id": "ee83865f",
   "metadata": {},
   "source": [
    "# Multiple Linear Regression"
   ]
  },
  {
   "cell_type": "code",
   "execution_count": null,
   "id": "911b953a",
   "metadata": {},
   "outputs": [],
   "source": [
    "from sklearn.linear_model import LinearRegression\n",
    "from sklearn.model_selection import train_test_split"
   ]
  },
  {
   "cell_type": "code",
   "execution_count": null,
   "id": "a586747a",
   "metadata": {},
   "outputs": [],
   "source": [
    "X = [df.col_1, df.col_2, df.col_N]\n",
    "y = df.outcome_col"
   ]
  },
  {
   "cell_type": "code",
   "execution_count": null,
   "id": "d4663bb8",
   "metadata": {},
   "outputs": [],
   "source": [
    "x_train, x_test, y_train, y_test = train_test_split(X, y, train_size = 0.8, test_size = 0.2)"
   ]
  },
  {
   "cell_type": "code",
   "execution_count": null,
   "id": "70ab4287",
   "metadata": {},
   "outputs": [],
   "source": [
    "model = LinearRegression()\n",
    "model.fit(x_train, y_train)"
   ]
  },
  {
   "cell_type": "code",
   "execution_count": null,
   "id": "484df1dd",
   "metadata": {},
   "outputs": [],
   "source": [
    "y_predicted = model.predict(x)\n",
    "score = model.score(x_train, y_train)"
   ]
  },
  {
   "cell_type": "markdown",
   "id": "1706db2e",
   "metadata": {},
   "source": [
    "# Using Statsmodels"
   ]
  },
  {
   "cell_type": "code",
   "execution_count": null,
   "id": "8d9a6528",
   "metadata": {},
   "outputs": [],
   "source": [
    "import statsmodels.api as sm"
   ]
  },
  {
   "cell_type": "code",
   "execution_count": null,
   "id": "664fdd1e",
   "metadata": {},
   "outputs": [],
   "source": [
    "X = [df.col_1, df.col_2, df.col_N]\n",
    "y = df.outcome_col"
   ]
  },
  {
   "cell_type": "code",
   "execution_count": null,
   "id": "d01916ee",
   "metadata": {},
   "outputs": [],
   "source": [
    "X = sm.add_constant(X)\n",
    "results = sm.OLS(y, X)"
   ]
  },
  {
   "cell_type": "code",
   "execution_count": null,
   "id": "70009d6f",
   "metadata": {},
   "outputs": [],
   "source": [
    "results = model.fit()\n",
    "summary = results.summary()"
   ]
  }
 ],
 "metadata": {
  "kernelspec": {
   "display_name": "Python 3 (ipykernel)",
   "language": "python",
   "name": "python3"
  },
  "language_info": {
   "codemirror_mode": {
    "name": "ipython",
    "version": 3
   },
   "file_extension": ".py",
   "mimetype": "text/x-python",
   "name": "python",
   "nbconvert_exporter": "python",
   "pygments_lexer": "ipython3",
   "version": "3.9.13"
  }
 },
 "nbformat": 4,
 "nbformat_minor": 5
}
